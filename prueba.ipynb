{
 "cells": [
  {
   "cell_type": "code",
   "execution_count": 9,
   "metadata": {},
   "outputs": [],
   "source": [
    "import os\n",
    "from variables import variables_all_cm,variables_upper_cm,variables_upper_f,variables_all_f"
   ]
  },
  {
   "cell_type": "code",
   "execution_count": 10,
   "metadata": {},
   "outputs": [
    {
     "data": {
      "text/plain": [
       "297"
      ]
     },
     "execution_count": 10,
     "metadata": {},
     "output_type": "execute_result"
    }
   ],
   "source": [
    "data = {\"variables\":[],\"fila\":[]}\n",
    "for key,value in variables_upper_cm[\"ACTIVO\"].items():\n",
    "    data[\"variables\"].append(key)\n",
    "    data[\"fila\"].append(value)\n",
    "    if value in variables_all_cm[\"ACTIVO\"]:\n",
    "        for k,v in variables_all_cm[\"ACTIVO\"][value].items():\n",
    "                data[\"variables\"].append(k)\n",
    "                data[\"fila\"].append(v)\n",
    "for key,value in variables_upper_cm[\"PASIVO\"].items():\n",
    "    data[\"variables\"].append(key)\n",
    "    data[\"fila\"].append(value)\n",
    "    if value in variables_all_cm[\"PASIVO\"]:\n",
    "        for k,v in variables_all_cm[\"PASIVO\"][value].items():\n",
    "                data[\"variables\"].append(k)\n",
    "                data[\"fila\"].append(v)\n",
    "\n",
    "import pandas as pd\n",
    "df = pd.DataFrame(data)\n",
    "len(df)"
   ]
  },
  {
   "cell_type": "code",
   "execution_count": 11,
   "metadata": {},
   "outputs": [],
   "source": [
    "new_df = df.drop_duplicates(subset=[\"fila\"]).reset_index(drop=True)\n",
    "new_df.to_excel(\"variables.xlsx\",index=False)\n"
   ]
  },
  {
   "cell_type": "code",
   "execution_count": 12,
   "metadata": {},
   "outputs": [
    {
     "data": {
      "text/plain": [
       "['AREQUIPA',\n",
       " 'CHINCHA',\n",
       " 'CUSCO',\n",
       " 'DEL SANTA',\n",
       " 'HUANCAYO',\n",
       " 'ICA',\n",
       " 'LIMA',\n",
       " 'MAYNAS',\n",
       " 'PAITA',\n",
       " 'PISCO',\n",
       " 'PIURA',\n",
       " 'SULLANA',\n",
       " 'TACNA',\n",
       " 'TOTALES',\n",
       " 'TRUJILLO']"
      ]
     },
     "execution_count": 12,
     "metadata": {},
     "output_type": "execute_result"
    }
   ],
   "source": [
    "[value.split(\".\")[0] for value in os.listdir(\"date_joins/Cajas_Municipales\")]"
   ]
  },
  {
   "cell_type": "code",
   "execution_count": 13,
   "metadata": {},
   "outputs": [],
   "source": [
    "# [value.split(\".\")[0] for value in os.listdir(\"date_joins/Financiera\")]\n"
   ]
  },
  {
   "cell_type": "code",
   "execution_count": 14,
   "metadata": {},
   "outputs": [
    {
     "data": {
      "text/plain": [
       "['CAJAMARCA',\n",
       " 'CAJASUR',\n",
       " 'CAT',\n",
       " 'CENSOSUD SCOTIA',\n",
       " 'CHAVIN',\n",
       " 'CREDINKA',\n",
       " 'CRUZ DE CHALPON',\n",
       " 'DEL CENTRO',\n",
       " 'INCASUR',\n",
       " 'LA LIBERTAD',\n",
       " 'LIBERTADORES DE AYACUCHO',\n",
       " 'LOS ANDES',\n",
       " 'NOR PERU',\n",
       " 'NUESTRA GENTE',\n",
       " 'PROFINANZAS',\n",
       " 'PRYMERA',\n",
       " 'QUILLABAMBA',\n",
       " 'RAIZ',\n",
       " 'SAN MARTIN',\n",
       " 'SENOR DE LUREN',\n",
       " 'SIPAN',\n",
       " 'TOTAL CAJAS RURALES']"
      ]
     },
     "execution_count": 14,
     "metadata": {},
     "output_type": "execute_result"
    }
   ],
   "source": [
    "[value.split(\".\")[0] for value in os.listdir(\"date_joins/Cajas_Rurales\")]\n"
   ]
  },
  {
   "cell_type": "code",
   "execution_count": 15,
   "metadata": {},
   "outputs": [
    {
     "data": {
      "text/plain": [
       "['AMERIKA FINANCIERA',\n",
       " 'CMR',\n",
       " 'COMPARTAMOS FINANCIERA',\n",
       " 'CORDILLERA',\n",
       " 'CREDISCOTIA FINANCIERA',\n",
       " 'DAEWOO',\n",
       " 'FINANC DE CREDITO',\n",
       " 'FINANCIERA CONFIANZA',\n",
       " 'FINANCIERA CREAR',\n",
       " 'FINANCIERA CREDINKA',\n",
       " 'FINANCIERA EDIFICAR',\n",
       " 'FINANCIERA EFECTIVA',\n",
       " 'FINANCIERA NUEVA VISION',\n",
       " 'FINANCIERA OH',\n",
       " 'FINANCIERA PROEMPRESA',\n",
       " 'FINANCIERA QAPAQ',\n",
       " 'FINANCIERA SURGIR',\n",
       " 'FINANCIERA TFC SA',\n",
       " 'FINANCIERA UNIVERSAL',\n",
       " 'FINANCIERA UNO',\n",
       " 'MITSUI AUTO FINANCE',\n",
       " 'SOLUCION FINANCIERA DE CREDITO',\n",
       " 'TOTAL EMPRESAS FINANCIERAS',\n",
       " 'VOLVO FINANCE']"
      ]
     },
     "execution_count": 15,
     "metadata": {},
     "output_type": "execute_result"
    }
   ],
   "source": [
    "[value.split(\".\")[0] for value in os.listdir(\"date_joins/Financiera\")]\n"
   ]
  },
  {
   "cell_type": "code",
   "execution_count": 16,
   "metadata": {},
   "outputs": [
    {
     "data": {
      "text/plain": [
       "['BANCO AZTECA DEL PERU',\n",
       " 'BANCO AZTECA PERU',\n",
       " 'BANCO CENCOSUD',\n",
       " 'BANCO CONTINENTAL',\n",
       " 'BANCO DE COMERCIO',\n",
       " 'BANCO DE CREDITO CON SUCURSALES EN EL EXTERIOR',\n",
       " 'BANCO DE CREDITO DEL PERU CON SUCURSALES EN EL EXTERIOR',\n",
       " 'BANCO DE CREDITO DEL PERU',\n",
       " 'BANCO DEL TRABAJO',\n",
       " 'BANCO FALABELLA PERU',\n",
       " 'BANCO FINANCIERO',\n",
       " 'BANCO GNB',\n",
       " 'BANCO ICBC',\n",
       " 'BANCO INTERAMERICANO DE FINANZAS',\n",
       " 'BANCO LATINO',\n",
       " 'BANCO RIPLEY',\n",
       " 'BANCO SANTANDER CENTRAL HISPANO',\n",
       " 'BANCO SANTANDER PERU',\n",
       " 'BANCO STANDARD CHARTERED',\n",
       " 'BANCO SUDAMERICANO CON SUCURSALES EN EL EXTERIOR',\n",
       " 'BANCO SUDAMERICANO DEL PERU',\n",
       " 'BANCO SUDAMERICANO',\n",
       " 'BANCO WIESE SUDAMERIS',\n",
       " 'BANKBOSTON',\n",
       " 'BNP PARIBAS ANDES',\n",
       " 'CITIBANK',\n",
       " 'DEUTSCHE BANK PERU',\n",
       " 'FALABELLA PERU SA',\n",
       " 'HSBC BANK PERU',\n",
       " 'INTERBANK CON SUCURSALES EN EL EXTERIOR',\n",
       " 'INTERBANK PERU CON SUCURSALES EN EL EXTERIOR',\n",
       " 'INTERBANK',\n",
       " 'MIBANCO',\n",
       " 'SANTANDER PERU SA',\n",
       " 'SCOTIABANK CON SUCURSALES EN EL EXTERIOR',\n",
       " 'SCOTIABANK PERU CON SUCURSALES EN EL EXTERIOR',\n",
       " 'SCOTIABANK PERU',\n",
       " 'TOTAL BANCA MULTIPE INCLUYENDO SUCURSALES EN EL EXTERIOR',\n",
       " 'TOTAL BANCA MULTIPLE INCLUYE SUCURSALES EN EL EXTERIOR',\n",
       " 'TOTAL BANCA MULTIPLE INCLUYENDO SUCURSALES EN EL EXTERIOR',\n",
       " 'TOTAL BANCA MULTIPLE']"
      ]
     },
     "execution_count": 16,
     "metadata": {},
     "output_type": "execute_result"
    }
   ],
   "source": [
    "[value.split(\".\")[0] for value in os.listdir(\"date_joins/Bancos\")]\n"
   ]
  },
  {
   "cell_type": "code",
   "execution_count": 17,
   "metadata": {},
   "outputs": [],
   "source": [
    "import re\n",
    "from pptx import Presentation\n",
    "from docx import Document\n",
    "from docx.shared import Inches\n",
    "from PIL import Image\n",
    "import io\n",
    "import os\n",
    "\n",
    "# Función para limpiar caracteres no válidos\n",
    "def clean_text(text):\n",
    "    # Eliminar caracteres no válidos (como caracteres de control y NULL)\n",
    "    return ''.join(c for c in text if c.isprintable())\n",
    "\n",
    "def pptx_to_word(pptx_filename, word_filename):\n",
    "    # Cargar la presentación de PowerPoint\n",
    "    prs = Presentation(pptx_filename)\n",
    "    doc = Document()\n",
    "\n",
    "    # Recorrer las diapositivas de la presentación\n",
    "    for slide in prs.slides:\n",
    "        # Agregar texto de cada diapositiva al documento\n",
    "        for shape in slide.shapes:\n",
    "            if hasattr(shape, \"text\") and shape.text.strip():  # Si la forma tiene texto\n",
    "                clean_paragraph = clean_text(shape.text)  # Limpiar el texto\n",
    "                doc.add_paragraph(clean_paragraph)\n",
    "                \n",
    "            # Extraer las imágenes\n",
    "            if shape.shape_type == 13:  # Tipo de forma de imagen\n",
    "                image_stream = io.BytesIO(shape.image.blob)\n",
    "                image = Image.open(image_stream)\n",
    "                img_filename = \"temp_image.png\"\n",
    "                image.save(img_filename)\n",
    "                \n",
    "                # Agregar la imagen al documento\n",
    "                doc.add_picture(img_filename, width=Inches(2))\n",
    "                \n",
    "                # Eliminar el archivo de la imagen temporal\n",
    "                os.remove(img_filename)\n",
    "\n",
    "    # Guardar el documento de Word\n",
    "    doc.save(word_filename)\n",
    "\n",
    "# Usar la función\n",
    "pptx_filename = \"Digestión y Absorción.pptx\"\n",
    "word_filename = \"resultado_documento.docx\"\n",
    "pptx_to_word(pptx_filename, word_filename)\n"
   ]
  }
 ],
 "metadata": {
  "kernelspec": {
   "display_name": "Python 3",
   "language": "python",
   "name": "python3"
  },
  "language_info": {
   "codemirror_mode": {
    "name": "ipython",
    "version": 3
   },
   "file_extension": ".py",
   "mimetype": "text/x-python",
   "name": "python",
   "nbconvert_exporter": "python",
   "pygments_lexer": "ipython3",
   "version": "3.12.4"
  }
 },
 "nbformat": 4,
 "nbformat_minor": 2
}
