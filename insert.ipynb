{
 "cells": [
  {
   "cell_type": "code",
   "execution_count": 51,
   "metadata": {},
   "outputs": [],
   "source": [
    "import os\n",
    "import pandas as pd\n",
    "from funcs import es_fecha,reporte_mes1\n",
    "from datetime import datetime\n",
    "from get_variables import GetVariables\n",
    "from database.models import Entity,Dates,Datos,Variable,Model\n",
    "from sqlalchemy import create_engine, exists\n",
    "from database.conn import engine,db\n",
    "import vars\n",
    "from variables import variables_all,variables_upper\n",
    "Model.metadata.create_all(engine)"
   ]
  },
  {
   "cell_type": "code",
   "execution_count": 52,
   "metadata": {},
   "outputs": [],
   "source": [
    "urlpatterns = \"data_clean\"\n",
    "# obj = GetVariables(urlpatterns,\"EF\")"
   ]
  },
  {
   "cell_type": "code",
   "execution_count": 53,
   "metadata": {},
   "outputs": [],
   "source": [
    "# for entity in vars.ENTITYS:\n",
    "#     for year in vars.YEARS:\n",
    "#         pathname = f\"{urlpatterns}/{entity}/EF/{year}\"\n",
    "#         upper_name = None\n",
    "#         var_type = \"ACTIVO\"\n",
    "#         for file in os.listdir(pathname):\n",
    "#             try:   \n",
    "                \n",
    "#                 \"\"\"\n",
    "#                 ### PARA CARGAR LAS FECHA\n",
    "#                 \"\"\"\n",
    "#                 # month_prefix = file.split(\"-\")[-1].split(\".\")[0][:2]\n",
    "#                 # index = vars.MONTH_PREFIX.index(month_prefix)\n",
    "#                 # month = vars.MONTHS[index]\n",
    "#                 # existe_registro = db.query(\n",
    "#                 #     exists().where(Dates.year == year).where(Dates.month == month).where(Dates.month_prefix==month_prefix)\n",
    "#                 # ).scalar()\n",
    "#                 # if not existe_registro:\n",
    "#                 #     instance = Dates(year=year,month=month,month_prefix=month_prefix)\n",
    "#                 #     db.add(instance)\n",
    "#                 #     db.commit()\n",
    "#                 \"\"\"\n",
    "#                 #### PARA CARGAR ENTIDADES\n",
    "#                 \"\"\"\n",
    "#                 # filepath = f\"{pathname}/{file}\"\n",
    "\n",
    "#                 # df = pd.read_excel(filepath)\n",
    "             \n",
    "#                 # entity_names = list(df.columns)[1:]\n",
    "#                 # for name in entity_names:\n",
    "#                 #     try:\n",
    "#                 #         instance = Entity(name=name,type_entity=3)\n",
    "#                 #         db.add(instance)\n",
    "#                 #         db.commit()\n",
    "#                 #     except:\n",
    "#                 #         pass\n",
    "#                 \"\"\"\n",
    "#                 #### PARA CARGAR LAS VARIABLES\n",
    "#                 \"\"\"\n",
    "#                 # for row_name in df[\"ACTIVO\"].to_list():\n",
    "#                 #     if row_name.upper()==\"PASIVO\":\n",
    "#                 #         var_type = \"PASIVO\"\n",
    "#                 #         continue\n",
    "#                 #     if row_name.isupper() :\n",
    "#                 #         upper_name = row_name.upper()\n",
    "#                 #         header_name = row_name.upper()\n",
    "#                 #         children_name = row_name.upper()\n",
    "#                 #     else:\n",
    "#                 #         children_name = None\n",
    "#                 #         header_name = None\n",
    "#                 #         header_name = variables_upper[var_type][upper_name]\n",
    "#                 #         children_name = variables_all[var_type][header_name][row_name.upper()]\n",
    "#                 #     try:\n",
    "#                 #         existe_registro = db.query(\n",
    "#                 #         exists().where(Variable.name_header == header_name).where(Variable.name_children == children_name)\n",
    "#                 #     ).scalar()\n",
    "#                 #         if not existe_registro:\n",
    "#                 #             instance = Variable(name_header=header_name,name_children=children_name)\n",
    "#                 #             db.add(instance)\n",
    "#                 #             db.commit()\n",
    "#                 #     except Exception as e:\n",
    "#                 #         # print(str(e))\n",
    "#                 #         pass\n",
    "                    \n",
    "#                 # var_type = \"ACTIVO\"\n",
    "\n",
    "#             except Exception as e:\n",
    "#                 # print(str(e),var_type)\n",
    "#                 pass\n",
    "                \n",
    "      \n",
    "\n"
   ]
  },
  {
   "cell_type": "code",
   "execution_count": 54,
   "metadata": {},
   "outputs": [
    {
     "data": {
      "text/plain": [
       "[Entity(id=1,name=CMAC AREQUIPA,type_entity=3),\n",
       " Entity(id=2,name=CMAC CHINCHA,type_entity=3),\n",
       " Entity(id=3,name=CMAC CUSCO ,type_entity=3),\n",
       " Entity(id=4,name=CMAC DEL SANTA,type_entity=3),\n",
       " Entity(id=5,name=CMAC HUANCAYO,type_entity=3),\n",
       " Entity(id=6,name=CMAC ICA,type_entity=3),\n",
       " Entity(id=7,name=CMAC MAYNAS,type_entity=3),\n",
       " Entity(id=8,name=CMAC PAITA,type_entity=3),\n",
       " Entity(id=9,name=CMAC PISCO,type_entity=3),\n",
       " Entity(id=10,name=CMAC PIURA,type_entity=3)]"
      ]
     },
     "execution_count": 54,
     "metadata": {},
     "output_type": "execute_result"
    }
   ],
   "source": [
    "entitys = db.query(Entity).all()\n",
    "entitys[:10]"
   ]
  },
  {
   "cell_type": "code",
   "execution_count": 55,
   "metadata": {},
   "outputs": [
    {
     "data": {
      "text/plain": [
       "[Dates(id=1,year=2001,month=Abril,mont_prefix=ab),\n",
       " Dates(id=2,year=2001,month=Agosto,mont_prefix=ag),\n",
       " Dates(id=3,year=2001,month=Diciembre,mont_prefix=di),\n",
       " Dates(id=4,year=2001,month=Enero,mont_prefix=en),\n",
       " Dates(id=5,year=2001,month=Febrero,mont_prefix=fe),\n",
       " Dates(id=6,year=2001,month=Julio,mont_prefix=jl),\n",
       " Dates(id=7,year=2001,month=Junio,mont_prefix=jn),\n",
       " Dates(id=8,year=2001,month=Marzo,mont_prefix=ma),\n",
       " Dates(id=9,year=2001,month=Mayo,mont_prefix=my),\n",
       " Dates(id=10,year=2001,month=Noviembre,mont_prefix=no)]"
      ]
     },
     "execution_count": 55,
     "metadata": {},
     "output_type": "execute_result"
    }
   ],
   "source": [
    "dates = db.query(Dates).all()\n",
    "dates[:10]"
   ]
  },
  {
   "cell_type": "code",
   "execution_count": 56,
   "metadata": {},
   "outputs": [
    {
     "data": {
      "text/plain": [
       "[Variable(id=1,name_header=MONEDA,name_children=MONEDA),\n",
       " Variable(id=2,name_header=DISPONIBLE,name_children=DISPONIBLE),\n",
       " Variable(id=3,name_header=DISPONIBLE,name_children=CAJA),\n",
       " Variable(id=4,name_header=DISPONIBLE,name_children=BANCOS Y CORRESPONSALES),\n",
       " Variable(id=5,name_header=DISPONIBLE,name_children=OTROS),\n",
       " Variable(id=6,name_header=FONDOS INTERBANCARIOS,name_children=FONDOS INTERBANCARIOS),\n",
       " Variable(id=7,name_header=INVERSIONES NETAS DE PROV Y DE ING NO DEVENGADOS,name_children=INVERSIONES NETAS DE PROV Y DE ING NO DEVENGADOS),\n",
       " Variable(id=8,name_header=INVERSIONES NETAS DE PROVISIONES,name_children=INVERSIONES A VALOR RAZONABLE CON CAMBIOS EN RESULTADOS),\n",
       " Variable(id=9,name_header=INVERSIONES NETAS DE PROVISIONES,name_children=INVERSIONES DISPONIBLES PARA LA VENTA),\n",
       " Variable(id=10,name_header=INVERSIONES NETAS DE PROVISIONES,name_children=INVERSIONES A VENCIMIENTO)]"
      ]
     },
     "execution_count": 56,
     "metadata": {},
     "output_type": "execute_result"
    }
   ],
   "source": [
    "variables  = db.query(Variable).all()\n",
    "variables[:10]"
   ]
  },
  {
   "cell_type": "code",
   "execution_count": 58,
   "metadata": {},
   "outputs": [
    {
     "name": "stdout",
     "output_type": "stream",
     "text": [
      "No row was found when one was required C-1101-en2001.xlsx\n",
      "No row was found when one was required C-1101-fe2001.xlsx\n",
      "No row was found when one was required C-1101-ag2004.xlsx\n",
      "No row was found when one was required C-1101-no2004.xlsx\n",
      "No row was found when one was required C-1101-oc2004.xlsx\n",
      "No row was found when one was required C-1101-se2004.xlsx\n"
     ]
    },
    {
     "ename": "KeyboardInterrupt",
     "evalue": "",
     "output_type": "error",
     "traceback": [
      "\u001b[1;31m---------------------------------------------------------------------------\u001b[0m",
      "\u001b[1;31mKeyboardInterrupt\u001b[0m                         Traceback (most recent call last)",
      "Cell \u001b[1;32mIn[58], line 40\u001b[0m\n\u001b[0;32m     38\u001b[0m             instance \u001b[38;5;241m=\u001b[39m Datos(entity_id\u001b[38;5;241m=\u001b[39mentity_id,variable_id\u001b[38;5;241m=\u001b[39mvar_id,date_id\u001b[38;5;241m=\u001b[39mid_date,value\u001b[38;5;241m=\u001b[39mvalues)\n\u001b[0;32m     39\u001b[0m             db\u001b[38;5;241m.\u001b[39madd(instance)\n\u001b[1;32m---> 40\u001b[0m             \u001b[43mdb\u001b[49m\u001b[38;5;241;43m.\u001b[39;49m\u001b[43mcommit\u001b[49m\u001b[43m(\u001b[49m\u001b[43m)\u001b[49m\n\u001b[0;32m     41\u001b[0m         var_type \u001b[38;5;241m=\u001b[39m \u001b[38;5;124m\"\u001b[39m\u001b[38;5;124mACTIVO\u001b[39m\u001b[38;5;124m\"\u001b[39m\n\u001b[0;32m     42\u001b[0m \u001b[38;5;28;01mexcept\u001b[39;00m \u001b[38;5;167;01mException\u001b[39;00m \u001b[38;5;28;01mas\u001b[39;00m e:\n",
      "File \u001b[1;32mc:\\Python312\\Lib\\site-packages\\sqlalchemy\\orm\\session.py:2028\u001b[0m, in \u001b[0;36mSession.commit\u001b[1;34m(self)\u001b[0m\n\u001b[0;32m   2025\u001b[0m \u001b[38;5;28;01mif\u001b[39;00m trans \u001b[38;5;129;01mis\u001b[39;00m \u001b[38;5;28;01mNone\u001b[39;00m:\n\u001b[0;32m   2026\u001b[0m     trans \u001b[38;5;241m=\u001b[39m \u001b[38;5;28mself\u001b[39m\u001b[38;5;241m.\u001b[39m_autobegin_t()\n\u001b[1;32m-> 2028\u001b[0m \u001b[43mtrans\u001b[49m\u001b[38;5;241;43m.\u001b[39;49m\u001b[43mcommit\u001b[49m\u001b[43m(\u001b[49m\u001b[43m_to_root\u001b[49m\u001b[38;5;241;43m=\u001b[39;49m\u001b[38;5;28;43;01mTrue\u001b[39;49;00m\u001b[43m)\u001b[49m\n",
      "File \u001b[1;32m<string>:2\u001b[0m, in \u001b[0;36mcommit\u001b[1;34m(self, _to_root)\u001b[0m\n",
      "File \u001b[1;32mc:\\Python312\\Lib\\site-packages\\sqlalchemy\\orm\\state_changes.py:139\u001b[0m, in \u001b[0;36m_StateChange.declare_states.<locals>._go\u001b[1;34m(fn, self, *arg, **kw)\u001b[0m\n\u001b[0;32m    137\u001b[0m \u001b[38;5;28mself\u001b[39m\u001b[38;5;241m.\u001b[39m_next_state \u001b[38;5;241m=\u001b[39m _StateChangeStates\u001b[38;5;241m.\u001b[39mCHANGE_IN_PROGRESS\n\u001b[0;32m    138\u001b[0m \u001b[38;5;28;01mtry\u001b[39;00m:\n\u001b[1;32m--> 139\u001b[0m     ret_value \u001b[38;5;241m=\u001b[39m \u001b[43mfn\u001b[49m\u001b[43m(\u001b[49m\u001b[38;5;28;43mself\u001b[39;49m\u001b[43m,\u001b[49m\u001b[43m \u001b[49m\u001b[38;5;241;43m*\u001b[39;49m\u001b[43marg\u001b[49m\u001b[43m,\u001b[49m\u001b[43m \u001b[49m\u001b[38;5;241;43m*\u001b[39;49m\u001b[38;5;241;43m*\u001b[39;49m\u001b[43mkw\u001b[49m\u001b[43m)\u001b[49m\n\u001b[0;32m    140\u001b[0m \u001b[38;5;28;01mexcept\u001b[39;00m:\n\u001b[0;32m    141\u001b[0m     \u001b[38;5;28;01mraise\u001b[39;00m\n",
      "File \u001b[1;32mc:\\Python312\\Lib\\site-packages\\sqlalchemy\\orm\\session.py:1320\u001b[0m, in \u001b[0;36mSessionTransaction.commit\u001b[1;34m(self, _to_root)\u001b[0m\n\u001b[0;32m   1316\u001b[0m \u001b[38;5;28;01mfor\u001b[39;00m conn, trans, should_commit, autoclose \u001b[38;5;129;01min\u001b[39;00m \u001b[38;5;28mset\u001b[39m(\n\u001b[0;32m   1317\u001b[0m     \u001b[38;5;28mself\u001b[39m\u001b[38;5;241m.\u001b[39m_connections\u001b[38;5;241m.\u001b[39mvalues()\n\u001b[0;32m   1318\u001b[0m ):\n\u001b[0;32m   1319\u001b[0m     \u001b[38;5;28;01mif\u001b[39;00m should_commit:\n\u001b[1;32m-> 1320\u001b[0m         \u001b[43mtrans\u001b[49m\u001b[38;5;241;43m.\u001b[39;49m\u001b[43mcommit\u001b[49m\u001b[43m(\u001b[49m\u001b[43m)\u001b[49m\n\u001b[0;32m   1322\u001b[0m \u001b[38;5;28mself\u001b[39m\u001b[38;5;241m.\u001b[39m_state \u001b[38;5;241m=\u001b[39m SessionTransactionState\u001b[38;5;241m.\u001b[39mCOMMITTED\n\u001b[0;32m   1323\u001b[0m \u001b[38;5;28mself\u001b[39m\u001b[38;5;241m.\u001b[39msession\u001b[38;5;241m.\u001b[39mdispatch\u001b[38;5;241m.\u001b[39mafter_commit(\u001b[38;5;28mself\u001b[39m\u001b[38;5;241m.\u001b[39msession)\n",
      "File \u001b[1;32mc:\\Python312\\Lib\\site-packages\\sqlalchemy\\engine\\base.py:2631\u001b[0m, in \u001b[0;36mTransaction.commit\u001b[1;34m(self)\u001b[0m\n\u001b[0;32m   2615\u001b[0m \u001b[38;5;250m\u001b[39m\u001b[38;5;124;03m\"\"\"Commit this :class:`.Transaction`.\u001b[39;00m\n\u001b[0;32m   2616\u001b[0m \n\u001b[0;32m   2617\u001b[0m \u001b[38;5;124;03mThe implementation of this may vary based on the type of transaction in\u001b[39;00m\n\u001b[1;32m   (...)\u001b[0m\n\u001b[0;32m   2628\u001b[0m \n\u001b[0;32m   2629\u001b[0m \u001b[38;5;124;03m\"\"\"\u001b[39;00m\n\u001b[0;32m   2630\u001b[0m \u001b[38;5;28;01mtry\u001b[39;00m:\n\u001b[1;32m-> 2631\u001b[0m     \u001b[38;5;28;43mself\u001b[39;49m\u001b[38;5;241;43m.\u001b[39;49m\u001b[43m_do_commit\u001b[49m\u001b[43m(\u001b[49m\u001b[43m)\u001b[49m\n\u001b[0;32m   2632\u001b[0m \u001b[38;5;28;01mfinally\u001b[39;00m:\n\u001b[0;32m   2633\u001b[0m     \u001b[38;5;28;01massert\u001b[39;00m \u001b[38;5;129;01mnot\u001b[39;00m \u001b[38;5;28mself\u001b[39m\u001b[38;5;241m.\u001b[39mis_active\n",
      "File \u001b[1;32mc:\\Python312\\Lib\\site-packages\\sqlalchemy\\engine\\base.py:2736\u001b[0m, in \u001b[0;36mRootTransaction._do_commit\u001b[1;34m(self)\u001b[0m\n\u001b[0;32m   2733\u001b[0m \u001b[38;5;28;01massert\u001b[39;00m \u001b[38;5;28mself\u001b[39m\u001b[38;5;241m.\u001b[39mconnection\u001b[38;5;241m.\u001b[39m_transaction \u001b[38;5;129;01mis\u001b[39;00m \u001b[38;5;28mself\u001b[39m\n\u001b[0;32m   2735\u001b[0m \u001b[38;5;28;01mtry\u001b[39;00m:\n\u001b[1;32m-> 2736\u001b[0m     \u001b[38;5;28;43mself\u001b[39;49m\u001b[38;5;241;43m.\u001b[39;49m\u001b[43m_connection_commit_impl\u001b[49m\u001b[43m(\u001b[49m\u001b[43m)\u001b[49m\n\u001b[0;32m   2737\u001b[0m \u001b[38;5;28;01mfinally\u001b[39;00m:\n\u001b[0;32m   2738\u001b[0m     \u001b[38;5;66;03m# whether or not commit succeeds, cancel any\u001b[39;00m\n\u001b[0;32m   2739\u001b[0m     \u001b[38;5;66;03m# nested transactions, make this transaction \"inactive\"\u001b[39;00m\n\u001b[0;32m   2740\u001b[0m     \u001b[38;5;66;03m# and remove it as a reset agent\u001b[39;00m\n\u001b[0;32m   2741\u001b[0m     \u001b[38;5;28;01mif\u001b[39;00m \u001b[38;5;28mself\u001b[39m\u001b[38;5;241m.\u001b[39mconnection\u001b[38;5;241m.\u001b[39m_nested_transaction:\n",
      "File \u001b[1;32mc:\\Python312\\Lib\\site-packages\\sqlalchemy\\engine\\base.py:2707\u001b[0m, in \u001b[0;36mRootTransaction._connection_commit_impl\u001b[1;34m(self)\u001b[0m\n\u001b[0;32m   2706\u001b[0m \u001b[38;5;28;01mdef\u001b[39;00m \u001b[38;5;21m_connection_commit_impl\u001b[39m(\u001b[38;5;28mself\u001b[39m) \u001b[38;5;241m-\u001b[39m\u001b[38;5;241m>\u001b[39m \u001b[38;5;28;01mNone\u001b[39;00m:\n\u001b[1;32m-> 2707\u001b[0m     \u001b[38;5;28;43mself\u001b[39;49m\u001b[38;5;241;43m.\u001b[39;49m\u001b[43mconnection\u001b[49m\u001b[38;5;241;43m.\u001b[39;49m\u001b[43m_commit_impl\u001b[49m\u001b[43m(\u001b[49m\u001b[43m)\u001b[49m\n",
      "File \u001b[1;32mc:\\Python312\\Lib\\site-packages\\sqlalchemy\\engine\\base.py:1146\u001b[0m, in \u001b[0;36mConnection._commit_impl\u001b[1;34m(self)\u001b[0m\n\u001b[0;32m   1144\u001b[0m     \u001b[38;5;28mself\u001b[39m\u001b[38;5;241m.\u001b[39mengine\u001b[38;5;241m.\u001b[39mdialect\u001b[38;5;241m.\u001b[39mdo_commit(\u001b[38;5;28mself\u001b[39m\u001b[38;5;241m.\u001b[39mconnection)\n\u001b[0;32m   1145\u001b[0m \u001b[38;5;28;01mexcept\u001b[39;00m \u001b[38;5;167;01mBaseException\u001b[39;00m \u001b[38;5;28;01mas\u001b[39;00m e:\n\u001b[1;32m-> 1146\u001b[0m     \u001b[38;5;28;43mself\u001b[39;49m\u001b[38;5;241;43m.\u001b[39;49m\u001b[43m_handle_dbapi_exception\u001b[49m\u001b[43m(\u001b[49m\u001b[43me\u001b[49m\u001b[43m,\u001b[49m\u001b[43m \u001b[49m\u001b[38;5;28;43;01mNone\u001b[39;49;00m\u001b[43m,\u001b[49m\u001b[43m \u001b[49m\u001b[38;5;28;43;01mNone\u001b[39;49;00m\u001b[43m,\u001b[49m\u001b[43m \u001b[49m\u001b[38;5;28;43;01mNone\u001b[39;49;00m\u001b[43m,\u001b[49m\u001b[43m \u001b[49m\u001b[38;5;28;43;01mNone\u001b[39;49;00m\u001b[43m)\u001b[49m\n",
      "File \u001b[1;32mc:\\Python312\\Lib\\site-packages\\sqlalchemy\\engine\\base.py:2358\u001b[0m, in \u001b[0;36mConnection._handle_dbapi_exception\u001b[1;34m(self, e, statement, parameters, cursor, context, is_sub_exec)\u001b[0m\n\u001b[0;32m   2356\u001b[0m     \u001b[38;5;28;01melse\u001b[39;00m:\n\u001b[0;32m   2357\u001b[0m         \u001b[38;5;28;01massert\u001b[39;00m exc_info[\u001b[38;5;241m1\u001b[39m] \u001b[38;5;129;01mis\u001b[39;00m \u001b[38;5;129;01mnot\u001b[39;00m \u001b[38;5;28;01mNone\u001b[39;00m\n\u001b[1;32m-> 2358\u001b[0m         \u001b[38;5;28;01mraise\u001b[39;00m exc_info[\u001b[38;5;241m1\u001b[39m]\u001b[38;5;241m.\u001b[39mwith_traceback(exc_info[\u001b[38;5;241m2\u001b[39m])\n\u001b[0;32m   2359\u001b[0m \u001b[38;5;28;01mfinally\u001b[39;00m:\n\u001b[0;32m   2360\u001b[0m     \u001b[38;5;28;01mdel\u001b[39;00m \u001b[38;5;28mself\u001b[39m\u001b[38;5;241m.\u001b[39m_reentrant_error\n",
      "File \u001b[1;32mc:\\Python312\\Lib\\site-packages\\sqlalchemy\\engine\\base.py:1144\u001b[0m, in \u001b[0;36mConnection._commit_impl\u001b[1;34m(self)\u001b[0m\n\u001b[0;32m   1142\u001b[0m         \u001b[38;5;28mself\u001b[39m\u001b[38;5;241m.\u001b[39m_log_info(\u001b[38;5;124m\"\u001b[39m\u001b[38;5;124mCOMMIT\u001b[39m\u001b[38;5;124m\"\u001b[39m)\n\u001b[0;32m   1143\u001b[0m \u001b[38;5;28;01mtry\u001b[39;00m:\n\u001b[1;32m-> 1144\u001b[0m     \u001b[38;5;28;43mself\u001b[39;49m\u001b[38;5;241;43m.\u001b[39;49m\u001b[43mengine\u001b[49m\u001b[38;5;241;43m.\u001b[39;49m\u001b[43mdialect\u001b[49m\u001b[38;5;241;43m.\u001b[39;49m\u001b[43mdo_commit\u001b[49m\u001b[43m(\u001b[49m\u001b[38;5;28;43mself\u001b[39;49m\u001b[38;5;241;43m.\u001b[39;49m\u001b[43mconnection\u001b[49m\u001b[43m)\u001b[49m\n\u001b[0;32m   1145\u001b[0m \u001b[38;5;28;01mexcept\u001b[39;00m \u001b[38;5;167;01mBaseException\u001b[39;00m \u001b[38;5;28;01mas\u001b[39;00m e:\n\u001b[0;32m   1146\u001b[0m     \u001b[38;5;28mself\u001b[39m\u001b[38;5;241m.\u001b[39m_handle_dbapi_exception(e, \u001b[38;5;28;01mNone\u001b[39;00m, \u001b[38;5;28;01mNone\u001b[39;00m, \u001b[38;5;28;01mNone\u001b[39;00m, \u001b[38;5;28;01mNone\u001b[39;00m)\n",
      "File \u001b[1;32mc:\\Python312\\Lib\\site-packages\\sqlalchemy\\engine\\default.py:702\u001b[0m, in \u001b[0;36mDefaultDialect.do_commit\u001b[1;34m(self, dbapi_connection)\u001b[0m\n\u001b[0;32m    701\u001b[0m \u001b[38;5;28;01mdef\u001b[39;00m \u001b[38;5;21mdo_commit\u001b[39m(\u001b[38;5;28mself\u001b[39m, dbapi_connection):\n\u001b[1;32m--> 702\u001b[0m     \u001b[43mdbapi_connection\u001b[49m\u001b[38;5;241;43m.\u001b[39;49m\u001b[43mcommit\u001b[49m\u001b[43m(\u001b[49m\u001b[43m)\u001b[49m\n",
      "\u001b[1;31mKeyboardInterrupt\u001b[0m: "
     ]
    }
   ],
   "source": [
    "\n",
    "for entity in vars.ENTITYS:\n",
    "    for year in vars.YEARS:\n",
    "        pathname = f\"{urlpatterns}/{entity}/EF/{year}\"\n",
    "        upper_name = None\n",
    "        var_type = \"ACTIVO\"\n",
    "        for file in os.listdir(pathname):\n",
    "            try: \n",
    "                filepath = f\"{pathname}/{file}\"\n",
    "                df = pd.read_excel(filepath)\n",
    "                month_prefix = file.split(\"-\")[-1].split(\".\")[0][:2]\n",
    "                index = vars.MONTH_PREFIX.index(month_prefix)\n",
    "                month = vars.MONTHS[index]\n",
    "                columns = list(df.columns)[1:]\n",
    "                for colum in columns:\n",
    "                    data = df[colum].to_list()\n",
    "                    indice = df[\"ACTIVO\"].to_list()\n",
    "            \n",
    "                    for row_name,values in zip(indice[1:],data[1:]):\n",
    "                        \n",
    "                        if row_name.upper()==\"PASIVO\":\n",
    "                            var_type = \"PASIVO\"\n",
    "                            continue\n",
    "                        if pd.isna(values):\n",
    "                            continue\n",
    "                        if row_name.isupper() :\n",
    "                            upper_name = row_name.upper()\n",
    "                            header_name = row_name.upper()\n",
    "                            children_name = row_name.upper()\n",
    "                        else:\n",
    "                            children_name = None\n",
    "                            header_name = None\n",
    "                            header_name = variables_upper[var_type][upper_name]\n",
    "                            children_name = variables_all[var_type][header_name][row_name.upper()]\n",
    "                        \n",
    "                        id_date = db.query(Dates.id).filter(Dates.year == year, Dates.month_prefix == month_prefix,Dates.month==month).one()[0]\n",
    "                        var_id = db.query(Variable.id).filter(Variable.name_header == header_name, Variable.name_children == children_name).one()[0]\n",
    "                        entity_id = db.query(Entity.id).filter(Entity.name == colum).one()[0]\n",
    "                        instance = Datos(entity_id=entity_id,variable_id=var_id,date_id=id_date,value=values)\n",
    "                        db.add(instance)\n",
    "                        db.commit()\n",
    "                    var_type = \"ACTIVO\"\n",
    "            except Exception as e:\n",
    "                print(str(e),file)\n",
    "                \n",
    "                \n",
    "      \n",
    "\n"
   ]
  }
 ],
 "metadata": {
  "kernelspec": {
   "display_name": "Python 3",
   "language": "python",
   "name": "python3"
  },
  "language_info": {
   "codemirror_mode": {
    "name": "ipython",
    "version": 3
   },
   "file_extension": ".py",
   "mimetype": "text/x-python",
   "name": "python",
   "nbconvert_exporter": "python",
   "pygments_lexer": "ipython3",
   "version": "3.12.4"
  }
 },
 "nbformat": 4,
 "nbformat_minor": 2
}
